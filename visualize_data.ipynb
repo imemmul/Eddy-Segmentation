{
 "cells": [
  {
   "cell_type": "code",
   "execution_count": 1,
   "metadata": {},
   "outputs": [],
   "source": [
    "import numpy as np\n",
    "import scipy.io as sio\n",
    "import cv2\n",
    "import os\n",
    "import matplotlib.pyplot as plt\n",
    "import matplotlib.image as mpimg"
   ]
  },
  {
   "cell_type": "code",
   "execution_count": 2,
   "metadata": {},
   "outputs": [],
   "source": [
    "def trainImage_generator(files, batch_size = 32, sz = (256, 256)):\n",
    "  \n",
    "  while True: \n",
    "    \n",
    "    #extract a random batch \n",
    "    batch = np.random.choice(files, size = batch_size)    \n",
    "    \n",
    "    #variables for collecting batches of inputs and outputs \n",
    "    batch_x = []\n",
    "    batch_y = []\n",
    "    # batch_z = []\n",
    "    \n",
    "    \n",
    "    for f in batch:\n",
    "\n",
    "\n",
    "\n",
    "\n",
    "        #get the masks. Note that masks are png files \n",
    "        mask = cv2.imread(f'../downloads/data4test/label/{f[:-3]}'+\"png\", cv2.IMREAD_GRAYSCALE).astype(np.float32)\n",
    "\n",
    "\n",
    "        #preprocess the mask \n",
    "        # mask[mask >= 2] = 0 \n",
    "        # mask[mask != 0 ] = 1\n",
    "        \n",
    "\n",
    "\n",
    "        #preprocess the raw images \n",
    "        # raw = Image.open(f'syntheticData/data/{f}')\n",
    "        # raw = raw.resize(sz)\n",
    "        # raw = np.array(raw)\n",
    "\n",
    "        rawMat = sio.loadmat(f'../downloads/data4test/data/{f}')\n",
    "        xData = np.array(rawMat['vxSample'])\n",
    "        yData = np.array(rawMat['vySample'])\n",
    "\n",
    "        ImgSize = xData.shape\n",
    "\n",
    "        input_image = np.stack((xData,yData,np.zeros(xData.shape)), -1)\n",
    "        # input_mask = np.stack((mask,mask,mask), -1)\n",
    "\n",
    "\n",
    "        # input_image = cv2.resize(input_image, sz)\n",
    "        # input_mask = cv2.resize(mask, sz)\n",
    "\n",
    "        # flipping random horizontal or vertical\n",
    "        # if random.random() > 0.5:\n",
    "        #     input_image = cv2.flip(input_image,0)\n",
    "        #     input_mask = cv2.flip(input_mask,0)\n",
    "        # if random.random() > 0.5:\n",
    "        #     input_image = cv2.flip(input_image,1)\n",
    "        #     input_mask = cv2.flip(input_mask,1)\n",
    "\n",
    "\n",
    "        # input_image = np.asarray(input_image)\n",
    "        # input_mask = np.asarray(mask)\n",
    "\n",
    "\n",
    "        # input_mask = tf.image.rgb_to_grayscale(input_mask)\n",
    "\n",
    "        # input_image = np.asarray(input_image)\n",
    "        input_mask = mask\n",
    "\n",
    "\n",
    "        input_mask[input_mask != 0 ] = 1\n",
    "\n",
    "        batch_x.append(input_image)\n",
    "        batch_y.append(input_mask)\n",
    "        # batch_z.append(f)\n",
    "\n",
    "\n",
    "    #preprocess a batch of images and masks \n",
    "    # batch_x = np.array(batch_x)/255.\n",
    "    batch_x = np.array(batch_x)\n",
    "    batch_y = np.array(batch_y)\n",
    "    # batch_y = np.expand_dims(batch_y,3)\n",
    "\n",
    "    # batch_x = preprocess_input(batch_x)\n",
    "    # batch_y = preprocess_input(batch_y)\n",
    "\n",
    "\n",
    "\n",
    "    yield (batch_x, batch_y)    "
   ]
  },
  {
   "cell_type": "code",
   "execution_count": 3,
   "metadata": {},
   "outputs": [
    {
     "data": {
      "text/plain": [
       "(10800, 10800)"
      ]
     },
     "execution_count": 3,
     "metadata": {},
     "output_type": "execute_result"
    }
   ],
   "source": [
    "training_files = os.listdir('../downloads/data4test/data/')\n",
    "label_files = os.listdir(\"../downloads/data4test/label/\")\n",
    "\n",
    "high_index = len(training_files)\n",
    "len(label_files), len(training_files)"
   ]
  },
  {
   "cell_type": "code",
   "execution_count": 11,
   "metadata": {},
   "outputs": [],
   "source": [
    "def visualize_random_image(training_files, label_files, aug_files, aug_labels):\n",
    "    rand_ind = np.random.randint(high_index)\n",
    "    mat_file_aug = sio.loadmat(file_name= f\"../downloads/data4test/aug_data/{aug_files[rand_ind]}\")\n",
    "    label_img_aug = mpimg.imread(f\"../downloads/data4test/aug_label/{aug_labels[rand_ind]}\")\n",
    "    mat_x_aug = mat_file_aug[\"vxSample\"]\n",
    "    mat_y_aug = mat_file_aug[\"vySample\"]\n",
    "    input_image_aug = np.stack((mat_x_aug, mat_y_aug, np.zeros(mat_x_aug.shape)), -1)\n",
    "    # not-augmented data\n",
    "    mat_file = sio.loadmat(file_name= f\"../downloads/data4test/data/{training_files[rand_ind]}\")\n",
    "    label_img = mpimg.imread(f\"../downloads/data4test/label/{label_files[rand_ind]}\")\n",
    "    mat_x = mat_file[\"vxSample\"]\n",
    "    mat_y = mat_file[\"vySample\"]\n",
    "    input_image = np.stack((mat_x, mat_y, np.zeros(mat_x.shape)), -1)\n",
    "\n",
    "    fig = plt.figure(figsize=(15, 10))\n",
    "    rows = 2\n",
    "    columns = 2\n",
    "    fig.add_subplot(rows, columns, 1)\n",
    "    plt.imshow(input_image)\n",
    "    plt.axis(False)\n",
    "    plt.title(\"Data\")\n",
    "    fig.add_subplot(rows, columns, 2)\n",
    "    plt.imshow(label_img)\n",
    "    plt.axis(False)\n",
    "    plt.title(\"Label\")\n",
    "    fig.add_subplot(rows, columns, 3)\n",
    "    plt.imshow(input_image_aug)\n",
    "    plt.axis(False)\n",
    "    fig.add_subplot(rows, columns, 4)\n",
    "    plt.imshow(label_img_aug)\n",
    "\n"
   ]
  },
  {
   "cell_type": "code",
   "execution_count": 10,
   "metadata": {},
   "outputs": [
    {
     "name": "stderr",
     "output_type": "stream",
     "text": [
      "Clipping input data to the valid range for imshow with RGB data ([0..1] for floats or [0..255] for integers).\n"
     ]
    },
    {
     "data": {
      "image/png": "[encoded data removed]",
      "text/plain": [
       "<Figure size 1500x1000 with 2 Axes>"
      ]
     },
     "metadata": {},
     "output_type": "display_data"
    }
   ],
   "source": [
    "augmented_data = os.listdir(\"../downloads/data4test/aug_data/\")\n",
    "augmented_label = os.listdir(\"../downloads/data4test/aug_label/\")\n",
    "visualize_random_image(training_files=augmented_data, label_files=augmented_label)"
   ]
  },
  {
   "cell_type": "code",
   "execution_count": null,
   "metadata": {},
   "outputs": [],
   "source": []
  }
 ],
 "metadata": {
  "kernelspec": {
   "display_name": "Python 3.10.8",
   "language": "python",
   "name": "python3"
  },
  "language_info": {
   "codemirror_mode": {
    "name": "ipython",
    "version": 3
   },
   "file_extension": ".py",
   "mimetype": "text/x-python",
   "name": "python",
   "nbconvert_exporter": "python",
   "pygments_lexer": "ipython3",
   "version": "3.10.8"
  },
  "orig_nbformat": 4,
  "vscode": {
   "interpreter": {
    "hash": "12387375b9bdc6a02744d740ba1c0f3a29dccca8b0d19fb734bd586653bcb972"
   }
  }
 },
 "nbformat": 4,
 "nbformat_minor": 2
}
