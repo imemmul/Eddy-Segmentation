{
 "cells": [
  {
   "cell_type": "code",
   "execution_count": 21,
   "metadata": {},
   "outputs": [],
   "source": [
    "import tensorflow as tf\n",
    "import scipy.io as sio\n",
    "import cv2\n",
    "import numpy as np\n",
    "import os"
   ]
  },
  {
   "cell_type": "code",
   "execution_count": 11,
   "metadata": {},
   "outputs": [],
   "source": [
    "def trainImage_generator(files, batch_size = 32, sz = (256, 256)):\n",
    "  \n",
    "  while True: \n",
    "    \n",
    "    #extract a random batch \n",
    "    batch = np.random.choice(files, size = batch_size)    \n",
    "    \n",
    "    #variables for collecting batches of inputs and outputs \n",
    "    batch_x = []\n",
    "    batch_y = []\n",
    "    # batch_z = []\n",
    "    \n",
    "    \n",
    "    for f in batch:\n",
    "\n",
    "\n",
    "\n",
    "\n",
    "        #get the masks. Note that masks are png files \n",
    "        mask = cv2.imread(f'../downloads/data4test/aug_label/{f[:-3]}'+\"png\", cv2.IMREAD_GRAYSCALE).astype(np.float32)\n",
    "\n",
    "\n",
    "        #preprocess the mask \n",
    "        # mask[mask >= 2] = 0 \n",
    "        # mask[mask != 0 ] = 1\n",
    "        \n",
    "\n",
    "\n",
    "        #preprocess the raw images \n",
    "        # raw = Image.open(f'syntheticData/data/{f}')\n",
    "        # raw = raw.resize(sz)\n",
    "        # raw = np.array(raw)\n",
    "\n",
    "        rawMat = sio.loadmat(f'../downloads/data4test/aug_data/{f}')\n",
    "        xData = np.array(rawMat['vxSample'])\n",
    "        yData = np.array(rawMat['vySample'])\n",
    "\n",
    "        ImgSize = xData.shape\n",
    "\n",
    "        input_image = np.stack((xData,yData,np.zeros(xData.shape)), -1)\n",
    "        # input_mask = np.stack((mask,mask,mask), -1)\n",
    "\n",
    "\n",
    "        # input_image = cv2.resize(input_image, sz)\n",
    "        # input_mask = cv2.resize(mask, sz)\n",
    "\n",
    "        # flipping random horizontal or vertical\n",
    "        # if random.random() > 0.5:\n",
    "        #     input_image = cv2.flip(input_image,0)\n",
    "        #     input_mask = cv2.flip(input_mask,0)\n",
    "        # if random.random() > 0.5:\n",
    "        #     input_image = cv2.flip(input_image,1)\n",
    "        #     input_mask = cv2.flip(input_mask,1)\n",
    "\n",
    "\n",
    "        # input_image = np.asarray(input_image)\n",
    "        # input_mask = np.asarray(mask)\n",
    "\n",
    "\n",
    "        # input_mask = tf.image.rgb_to_grayscale(input_mask)\n",
    "\n",
    "        # input_image = np.asarray(input_image)\n",
    "        input_mask = mask\n",
    "\n",
    "\n",
    "        input_mask[input_mask != 0 ] = 1\n",
    "\n",
    "        batch_x.append(input_image)\n",
    "        batch_y.append(input_mask)\n",
    "        # batch_z.append(f)\n",
    "\n",
    "\n",
    "    #preprocess a batch of images and masks \n",
    "    # batch_x = np.array(batch_x)/255.\n",
    "    batch_x = np.array(batch_x)\n",
    "    batch_y = np.array(batch_y)\n",
    "    # batch_y = np.expand_dims(batch_y,3)\n",
    "\n",
    "    # batch_x = preprocess_input(batch_x)\n",
    "    # batch_y = preprocess_input(batch_y)\n",
    "\n",
    "\n",
    "\n",
    "    yield (batch_x, batch_y)    "
   ]
  },
  {
   "cell_type": "code",
   "execution_count": 12,
   "metadata": {},
   "outputs": [],
   "source": [
    "def validImage_generator(files, batch_size = 32, sz = (256, 256)):\n",
    "  \n",
    "  while True: \n",
    "    \n",
    "    #extract a random batch \n",
    "    batch = np.random.choice(files, size = batch_size)    \n",
    "    \n",
    "    #variables for collecting batches of inputs and outputs \n",
    "    batch_x = []\n",
    "    batch_y = []\n",
    "    # batch_z = []\n",
    "    \n",
    "    \n",
    "    for f in batch:\n",
    "\n",
    "\n",
    "\n",
    "        #get the masks. Note that masks are png files \n",
    "        mask = cv2.imread(f'../downloads/data4test/label/{f[:-3]}'+\"png\", cv2.IMREAD_GRAYSCALE).astype(np.float32)\n",
    "\n",
    "\n",
    "        #preprocess the mask \n",
    "        # mask[mask >= 2] = 0 \n",
    "        # mask[mask != 0 ] = 1\n",
    "        \n",
    "\n",
    "\n",
    "        #preprocess the raw images \n",
    "        # raw = Image.open(f'syntheticData/data/{f}')\n",
    "        # raw = raw.resize(sz)\n",
    "        # raw = np.array(raw)\n",
    "\n",
    "        rawMat = sio.loadmat(f'../downloads/data4test/data/{f}')\n",
    "        xData = np.array(rawMat['vxSample'])\n",
    "        yData = np.array(rawMat['vySample'])\n",
    "\n",
    "        ImgSize = xData.shape\n",
    "\n",
    "        input_image = np.stack((xData,yData,np.zeros(xData.shape)), -1)\n",
    "\n",
    "        input_mask = mask\n",
    "\n",
    "\n",
    "\n",
    "        input_image = np.asarray(input_image)\n",
    "        input_mask = np.asarray(input_mask)\n",
    "        input_mask[input_mask != 0 ] = 1\n",
    "\n",
    "        batch_x.append(input_image)\n",
    "        batch_y.append(input_mask)\n",
    "        # batch_z.append(f)\n",
    "\n",
    "\n",
    "    #preprocess a batch of images and masks \n",
    "    # batch_x = np.array(batch_x)/255.\n",
    "    batch_x = np.array(batch_x)\n",
    "    batch_y = np.array(batch_y)\n",
    "    # batch_y = np.expand_dims(batch_y,3)\n",
    "\n",
    "    # batch_x = preprocess_input(batch_x)\n",
    "\n",
    "\n",
    "\n",
    "    yield (batch_x, batch_y)"
   ]
  },
  {
   "cell_type": "code",
   "execution_count": 20,
   "metadata": {},
   "outputs": [
    {
     "name": "stdout",
     "output_type": "stream",
     "text": [
      "env: SM_FRAMEWORK=tf.keras\n"
     ]
    }
   ],
   "source": [
    "%env SM_FRAMEWORK = tf.keras\n",
    "import segmentation_models as sm"
   ]
  },
  {
   "cell_type": "code",
   "execution_count": 22,
   "metadata": {},
   "outputs": [],
   "source": [
    "training_files = os.listdir(\"../downloads/data4test/aug_data/\")\n",
    "validate_files = os.listdir(\"../downloads/data4test/data/\")\n",
    "batch_size = 64\n",
    "split = int(0.5 * len(training_files))\n",
    "train_files = training_files[0:split]\n",
    "test_files  = validate_files[split:]\n",
    "\n",
    "train_data, valid_data = trainImage_generator(trainImage_generator(train_files, batch_size = batch_size)), validImage_generator(test_files, batch_size = batch_size)"
   ]
  },
  {
   "cell_type": "code",
   "execution_count": 26,
   "metadata": {},
   "outputs": [
    {
     "ename": "StopIteration",
     "evalue": "",
     "output_type": "error",
     "traceback": [
      "\u001b[0;31m---------------------------------------------------------------------------\u001b[0m",
      "\u001b[0;31mStopIteration\u001b[0m                             Traceback (most recent call last)",
      "Cell \u001b[0;32mIn [26], line 7\u001b[0m\n\u001b[1;32m      5\u001b[0m train_steps \u001b[39m=\u001b[39m \u001b[39mlen\u001b[39m(train_files) \u001b[39m/\u001b[39m\u001b[39m/\u001b[39m batch_size\n\u001b[1;32m      6\u001b[0m test_steps \u001b[39m=\u001b[39m \u001b[39mlen\u001b[39m(test_files) \u001b[39m/\u001b[39m\u001b[39m/\u001b[39m batch_size\n\u001b[0;32m----> 7\u001b[0m model\u001b[39m.\u001b[39;49mfit(train_data,epochs \u001b[39m=\u001b[39;49m \u001b[39m32\u001b[39;49m, steps_per_epoch \u001b[39m=\u001b[39;49m train_steps,validation_data \u001b[39m=\u001b[39;49m valid_data, validation_steps \u001b[39m=\u001b[39;49m test_steps, verbose \u001b[39m=\u001b[39;49m \u001b[39m1\u001b[39;49m)\n",
      "File \u001b[0;32m~/anaconda3/envs/emirenv/lib/python3.10/site-packages/keras/utils/traceback_utils.py:70\u001b[0m, in \u001b[0;36mfilter_traceback.<locals>.error_handler\u001b[0;34m(*args, **kwargs)\u001b[0m\n\u001b[1;32m     67\u001b[0m     filtered_tb \u001b[39m=\u001b[39m _process_traceback_frames(e\u001b[39m.\u001b[39m__traceback__)\n\u001b[1;32m     68\u001b[0m     \u001b[39m# To get the full stack trace, call:\u001b[39;00m\n\u001b[1;32m     69\u001b[0m     \u001b[39m# `tf.debugging.disable_traceback_filtering()`\u001b[39;00m\n\u001b[0;32m---> 70\u001b[0m     \u001b[39mraise\u001b[39;00m e\u001b[39m.\u001b[39mwith_traceback(filtered_tb) \u001b[39mfrom\u001b[39;00m \u001b[39mNone\u001b[39m\n\u001b[1;32m     71\u001b[0m \u001b[39mfinally\u001b[39;00m:\n\u001b[1;32m     72\u001b[0m     \u001b[39mdel\u001b[39;00m filtered_tb\n",
      "File \u001b[0;32m~/anaconda3/envs/emirenv/lib/python3.10/site-packages/keras/engine/data_adapter.py:933\u001b[0m, in \u001b[0;36mGeneratorDataAdapter._peek_and_restore\u001b[0;34m(x)\u001b[0m\n\u001b[1;32m    931\u001b[0m \u001b[39m@staticmethod\u001b[39m\n\u001b[1;32m    932\u001b[0m \u001b[39mdef\u001b[39;00m \u001b[39m_peek_and_restore\u001b[39m(x):\n\u001b[0;32m--> 933\u001b[0m     peek \u001b[39m=\u001b[39m \u001b[39mnext\u001b[39;49m(x)\n\u001b[1;32m    934\u001b[0m     \u001b[39mreturn\u001b[39;00m peek, itertools\u001b[39m.\u001b[39mchain([peek], x)\n",
      "\u001b[0;31mStopIteration\u001b[0m: "
     ]
    }
   ],
   "source": [
    "BACKBONE = 'vgg16'\n",
    "model = sm.Unet(BACKBONE, encoder_weights='imagenet')\n",
    "    # model.compile('Adam', loss=sm.losses.bce_dice_loss, metrics=[sm.metrics.iou_score])\n",
    "model.compile('Adam', loss=sm.losses.bce_dice_loss, metrics=[\"accuracy\"])\n",
    "train_steps = len(train_files) // batch_size\n",
    "test_steps = len(test_files) // batch_size\n",
    "model.fit(train_data,epochs = 32, steps_per_epoch = train_steps,validation_data = valid_data, validation_steps = test_steps, verbose = 1)\n"
   ]
  },
  {
   "cell_type": "code",
   "execution_count": null,
   "metadata": {},
   "outputs": [],
   "source": []
  }
 ],
 "metadata": {
  "kernelspec": {
   "display_name": "Python 3.10.8 ('emirenv')",
   "language": "python",
   "name": "python3"
  },
  "language_info": {
   "codemirror_mode": {
    "name": "ipython",
    "version": 3
   },
   "file_extension": ".py",
   "mimetype": "text/x-python",
   "name": "python",
   "nbconvert_exporter": "python",
   "pygments_lexer": "ipython3",
   "version": "3.10.8"
  },
  "orig_nbformat": 4,
  "vscode": {
   "interpreter": {
    "hash": "12387375b9bdc6a02744d740ba1c0f3a29dccca8b0d19fb734bd586653bcb972"
   }
  }
 },
 "nbformat": 4,
 "nbformat_minor": 2
}
