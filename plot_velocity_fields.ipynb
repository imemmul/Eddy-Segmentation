{
 "cells": [
  {
   "cell_type": "code",
   "execution_count": 6,
   "metadata": {},
   "outputs": [
    {
     "data": {
      "text/plain": [
       "'cuda'"
      ]
     },
     "execution_count": 6,
     "metadata": {},
     "output_type": "execute_result"
    }
   ],
   "source": [
    "import torch\n",
    "import scipy.io as sio\n",
    "device = 'cuda' if torch.cuda.is_available() else 'cpu'\n",
    "import numpy as np\n",
    "import matplotlib.pyplot as plt\n",
    "import os\n",
    "device"
   ]
  },
  {
   "cell_type": "markdown",
   "metadata": {},
   "source": [
    "we should delete 0 values"
   ]
  },
  {
   "cell_type": "code",
   "execution_count": 37,
   "metadata": {},
   "outputs": [],
   "source": [
    "def delete_zeros(X:np.array, Y):\n",
    "    shape = X.shape[0]\n",
    "    new_X, new_Y = np.empty(shape=(shape, shape)), np.empty(shape=(shape, shape))\n",
    "    for i in range(shape):\n",
    "        for j in range(shape):\n",
    "            if X[i][j] != 0 and Y[i][j] != 0:\n",
    "                new_X[i][j] = X[i][j]\n",
    "                new_Y[i][j] = Y[i][j]\n",
    "            elif X[i][j] == 0 and Y[i][j] != 0:\n",
    "                new_X[i][j] = 0 \n",
    "                new_Y[i][j] = Y[i][j]\n",
    "            elif X[i][j] != 0 and Y[i][j] == 0:\n",
    "                new_Y[i][j] = 0 \n",
    "                new_X[i][j] = X[i][j]\n",
    "            elif X[i][j] == 0 and Y[i][j] == 0:\n",
    "                \n",
    "    return new_X, new_Y\n"
   ]
  },
  {
   "cell_type": "code",
   "execution_count": null,
   "metadata": {},
   "outputs": [],
   "source": []
  },
  {
   "cell_type": "code",
   "execution_count": 38,
   "metadata": {},
   "outputs": [],
   "source": [
    "def random_plot_velocity_fields(train_dir, label_dir):\n",
    "    rand_ind = np.random.randint(len(os.listdir(train_dir)))\n",
    "    rand_mat = train_dir + os.listdir(train_dir)[rand_ind]\n",
    "    label_rand = label_dir + os.listdir(label_dir)[rand_ind]\n",
    "    x = sio.loadmat(rand_mat)[\"vxSample\"]\n",
    "    y = sio.loadmat(rand_mat)[\"vySample\"]\n",
    "    x, y = delete_zeros(x, y)\n",
    "    print(x)\n",
    "    # u = x/np.sqrt(x**2 + y**2)\n",
    "    # print(u)\n",
    "    # v = y/np.sqrt(x**2 + y**2)\n",
    "    # plt.quiver(x,y,u,v)\n",
    "    # plt.show()\n"
   ]
  },
  {
   "cell_type": "code",
   "execution_count": 39,
   "metadata": {},
   "outputs": [],
   "source": [
    "train_dir = \"../dataset_eddy/data4test/aug_data/\"\n",
    "label_dir = \"../dataset_eddy/data4test/aug_label/\""
   ]
  },
  {
   "cell_type": "code",
   "execution_count": 40,
   "metadata": {},
   "outputs": [
    {
     "name": "stdout",
     "output_type": "stream",
     "text": [
      "[[-0.0525192  -0.05055642 -0.04253436 ... -0.29078442 -0.31550372\n",
      "  -0.33817568]\n",
      " [-0.05003304 -0.04717259 -0.03815904 ... -0.29007393 -0.31496048\n",
      "  -0.3377977 ]\n",
      " [-0.04943451 -0.04868146 -0.04844432 ... -0.28872511 -0.31370005\n",
      "  -0.01939432]\n",
      " ...\n",
      " [        nan         nan         nan ...  0.4900935   0.53283708\n",
      "   0.58946442]\n",
      " [        nan         nan         nan ...  0.4997643   0.53995411\n",
      "   0.59443505]\n",
      " [        nan         nan -0.06144143 ...  0.50906771  0.54702251\n",
      "   0.59987401]]\n"
     ]
    },
    {
     "ename": "TypeError",
     "evalue": "cannot unpack non-iterable NoneType object",
     "output_type": "error",
     "traceback": [
      "\u001b[0;31m---------------------------------------------------------------------------\u001b[0m",
      "\u001b[0;31mTypeError\u001b[0m                                 Traceback (most recent call last)",
      "\u001b[1;32m/home/emir/Desktop/dev/Eddy-Segmentation/plot_velocity_fields.ipynb Cell 7\u001b[0m in \u001b[0;36m<cell line: 1>\u001b[0;34m()\u001b[0m\n\u001b[0;32m----> <a href='vscode-notebook-cell://ssh-remote%2Bmlgpu/home/emir/Desktop/dev/Eddy-Segmentation/plot_velocity_fields.ipynb#W2sdnNjb2RlLXJlbW90ZQ%3D%3D?line=0'>1</a>\u001b[0m mat_main, label \u001b[39m=\u001b[39m random_plot_velocity_fields(train_dir\u001b[39m=\u001b[39mtrain_dir, label_dir\u001b[39m=\u001b[39mlabel_dir)\n",
      "\u001b[0;31mTypeError\u001b[0m: cannot unpack non-iterable NoneType object"
     ]
    }
   ],
   "source": [
    "mat_main, label = random_plot_velocity_fields(train_dir=train_dir, label_dir=label_dir)"
   ]
  },
  {
   "cell_type": "code",
   "execution_count": null,
   "metadata": {},
   "outputs": [],
   "source": []
  }
 ],
 "metadata": {
  "kernelspec": {
   "display_name": "Python 3.10.6 ('mlptorch')",
   "language": "python",
   "name": "python3"
  },
  "language_info": {
   "codemirror_mode": {
    "name": "ipython",
    "version": 3
   },
   "file_extension": ".py",
   "mimetype": "text/x-python",
   "name": "python",
   "nbconvert_exporter": "python",
   "pygments_lexer": "ipython3",
   "version": "3.10.6"
  },
  "orig_nbformat": 4,
  "vscode": {
   "interpreter": {
    "hash": "6351ae7a8af7abb5b6e92ecd3cb8e4a903e7aa1ff53853f1ec32897af5c10b9a"
   }
  }
 },
 "nbformat": 4,
 "nbformat_minor": 2
}
